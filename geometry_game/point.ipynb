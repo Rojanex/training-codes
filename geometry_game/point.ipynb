{
 "cells": [
  {
   "cell_type": "code",
   "execution_count": null,
   "metadata": {},
   "outputs": [],
   "source": [
    "class Point:\n",
    "\n",
    "    def __init__(self, x, y) -> None:\n",
    "        self.x = x\n",
    "        self.y = y"
   ]
  },
  {
   "cell_type": "markdown",
   "metadata": {},
   "source": [
    "Cada clase crea un objeto, en el init deben ir los elementos que son MUST del objeto, es decir, los parámetros mínimos que tiene el objeto a crear. Por ejemplo, para un punto si o si deber tener una coordenada X y Y. Por lo tanto, se agrega al init. Los métodos son \"propiedades\" del objeto, ejemplo, conocer la distancia que existe entre cada coordenada puede ser un método."
   ]
  },
  {
   "cell_type": "code",
   "execution_count": null,
   "metadata": {},
   "outputs": [],
   "source": [
    "point1 = Point(10, 20)"
   ]
  },
  {
   "cell_type": "markdown",
   "metadata": {},
   "source": [
    "Esto lleva como nombre \"Point(10, 20)\" ---> INSTANCIA DE OBJETO"
   ]
  },
  {
   "cell_type": "code",
   "execution_count": null,
   "metadata": {},
   "outputs": [],
   "source": [
    "class Point:\n",
    "\n",
    "    def __init__(self, x, y) -> None:\n",
    "        self.x = x\n",
    "        self.y = y\n",
    "\n",
    "    def falls_in_rectangle(self, lowleft, upright):\n",
    "        \"\"\"\"\n",
    "        Attributes: \n",
    "            lowleft (tuple) --> Representa punto uno del rectángulo\n",
    "            upright (tuple) --> Representa la otra esquina del rectángulo\n",
    "        \n",
    "        \"\"\"\n",
    "\n",
    "        if lowleft[0] < self.x < upright[0] \\\n",
    "        and lowleft[1] < self.y < upright[1]:\n",
    "            return True\n",
    "        else:\n",
    "            return False\n",
    "        \n",
    "    def distance_from_point(self, point):\n",
    "        \"\"\"\n",
    "        Attributes:\n",
    "            point (obj Point) --> El punto a calcular, ejemplo, point1 = Point(2, 2)\n",
    "        \"\"\"\n",
    "\n",
    "        return ((self.x - point.x)**2 +\n",
    "                (self.y - point.y)**2) ** 0.5\n",
    "    "
   ]
  },
  {
   "cell_type": "markdown",
   "metadata": {},
   "source": [
    "Como puedes ver puedes pasar un objeto del mismo sin ningún problema, como de atributos ese objeto tiene x y y, pues por supuesto que puedes acceder a el de forma normal"
   ]
  }
 ],
 "metadata": {
  "language_info": {
   "name": "python"
  }
 },
 "nbformat": 4,
 "nbformat_minor": 2
}
